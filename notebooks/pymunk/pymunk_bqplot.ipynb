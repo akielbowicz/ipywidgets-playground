{
 "cells": [
  {
   "cell_type": "markdown",
   "metadata": {},
   "source": [
    "# Simulación de un sistema con gravedad.\n",
    "\n",
    "Utilizando el motor de física, que realiza todos los calculos, Pymunk y graficando con Bqplot \n",
    "realizamos armamos un ambiente de experimentación para sistemas de cinemática y dinámica clásica ( Newtoniana )."
   ]
  },
  {
   "cell_type": "code",
   "execution_count": 8,
   "metadata": {},
   "outputs": [],
   "source": [
    "import pymunk\n",
    "import numpy as np\n",
    "from bqplot import Figure, Axis, Scatter, LinearScale,Lines\n",
    "import time\n",
    "import bqplot.pyplot as plt\n",
    "import ipywidgets as widgets"
   ]
  },
  {
   "cell_type": "markdown",
   "metadata": {},
   "source": [
    "### Seteo del experimento en Pymunk\n",
    "\n",
    "Creamos un espacio (space), una pelota ( body-shape ) y un piso (line)."
   ]
  },
  {
   "cell_type": "code",
   "execution_count": 9,
   "metadata": {
    "collapsed": true
   },
   "outputs": [],
   "source": [
    "space = pymunk.Space()      # Create a Space which contain the simulation\n",
    "space.gravity = 0,-1000     # Set its gravity\n",
    "\n",
    "body = pymunk.Body(1,1666)  # Create a Body with mass and moment\n",
    "body.position = 50,100      # Set the position of the body\n",
    "\n",
    "\n",
    "shape = pymunk.Circle(body, 5, (0, 0))\n",
    "shape.elasticity = 0.95\n",
    "shape.friction = 0.9\n",
    "\n",
    "space.add(body, shape)       # Add both body and shape to the simulation\n",
    "\n",
    "line = pymunk.Segment(space.static_body, (0, 0), (100, 0), 0.0)\n",
    "line.elasticity = 0.95\n",
    "line.friction = 0.9\n",
    "space.add(line)"
   ]
  },
  {
   "cell_type": "markdown",
   "metadata": {},
   "source": [
    "### Armado de la figura \n",
    "\n",
    "Con la pelota ( scatter ) y el piso ( floor )"
   ]
  },
  {
   "cell_type": "code",
   "execution_count": 14,
   "metadata": {},
   "outputs": [],
   "source": [
    "x_sc = LinearScale(min=0,max=100)\n",
    "y_sc = LinearScale(min=0,max=100)\n",
    "\n",
    "ax = Axis(label='x',scale=x_sc)\n",
    "ay = Axis(label='y',scale=y_sc,orientation='vertical')\n",
    "\n",
    "scatter = Scatter(x=[body.position.x],\n",
    "                  y=[body.position.y],\n",
    "                  scales={'x': x_sc, 'y': y_sc, 'size':LinearScale(min=0,max=1)},\n",
    "                  size=np.array([5]))\n",
    "\n",
    "floor = Lines(x=[0,100],y=[0,0],scales={'x': x_sc, 'y': y_sc, 'size':LinearScale(min=1,max=10)})\n",
    "fig = Figure(axes=[ax,ay],marks=[scatter,floor],animation_duration=int(100/6))"
   ]
  },
  {
   "cell_type": "markdown",
   "metadata": {},
   "source": [
    "### Creamos widgets para interactividad"
   ]
  },
  {
   "cell_type": "code",
   "execution_count": 19,
   "metadata": {},
   "outputs": [],
   "source": [
    "play_button = widgets.ToggleButton(\n",
    "    value=False,\n",
    "    description='Play',\n",
    "    disabled=False,\n",
    "    button_style='', # 'success', 'info', 'warning', 'danger' or ''\n",
    "    tooltip='Description',\n",
    "    icon='check'\n",
    ")    \n",
    "\n",
    "enable_change = widgets.Checkbox(\n",
    "    value=False,\n",
    "    description='Enable position change',\n",
    "    disabled=False\n",
    ")\n",
    "\n",
    "duration = widgets.IntText(\n",
    "    value=100,\n",
    "    description='Pasos de simulación:',\n",
    "    disabled=False\n",
    ")\n",
    "\n",
    "ball_size = widgets.IntSlider(\n",
    "    value=7,\n",
    "    min=1,\n",
    "    max=10,\n",
    "    step=1,\n",
    "    description='Size',\n",
    "    disabled=False,\n",
    "    continuous_update=False,\n",
    "    orientation='horizontal',\n",
    "    readout=True,\n",
    "    readout_format='d'\n",
    ")\n",
    "\n",
    "ball_elasticiy = widgets.FloatSlider(\n",
    "    value=shape.elasticity,\n",
    "    min=0,\n",
    "    max=1.0,\n",
    "    step=0.1,\n",
    "    description='Ball_elasticity:',\n",
    "    disabled=False,\n",
    "    continuous_update=False,\n",
    "    readout=True,\n",
    "    readout_format='.1f',\n",
    ")\n",
    "\n",
    "def update_posistion(change):\n",
    "    if enable_change.value:\n",
    "        body.position = scatter.x[0], scatter.y[0]\n",
    "        enable_change.value = False\n",
    "        scatter.enable_move = False\n",
    "\n",
    "scatter.observe(update_posistion, names='x')\n",
    "scatter.observe(update_posistion, names='y')\n",
    "\n",
    "\n",
    "\n",
    "def run(change):\n",
    "    enable_change.value = False\n",
    "    play_button.description = 'Pause'\n",
    "    play_button.icon = 'pause'\n",
    "    initial_time = trajectory.x[-1] + 1 if len(trajectory.x) else 0\n",
    "    for i in range(duration.value):\n",
    "        space.step(1/60/2)\n",
    "        scatter.x = [body.position.x]\n",
    "        scatter.y = [body.position.y]\n",
    "        trajectory.x = np.append(trajectory.x, initial_time + i )\n",
    "        trajectory.y = np.append(trajectory.y, scatter.y ) \n",
    "        time.sleep(1/100)\n",
    "        \n",
    "    play_button.description = 'Play'\n",
    "    play_button.icon = 'play'\n",
    "        \n",
    "def enable_move(change):\n",
    "    scatter.enable_move = change.new\n",
    "    trajectory.x = np.array([])\n",
    "    trajectory.y = np.array([])\n",
    "    \n",
    "play_button.observe(run,names='value')\n",
    "enable_change.observe(enable_move,names='value')\n",
    "\n",
    "def size_change(change):\n",
    "    scatter.size = [change.new]\n",
    "\n",
    "ball_size.observe(size_change,names='value')\n",
    "\n",
    "def update_elasticity(change):\n",
    "    shape.elasticity = change.new\n",
    "\n",
    "ball_elasticiy.observe(update_elasticity,names='value')"
   ]
  },
  {
   "cell_type": "markdown",
   "metadata": {},
   "source": [
    "### Creamos un grafico adicional que grafica la posición del centro de la pelota en función del tiempo "
   ]
  },
  {
   "cell_type": "code",
   "execution_count": 23,
   "metadata": {},
   "outputs": [],
   "source": [
    "t_sc = LinearScale(min=0,max=1000)\n",
    "\n",
    "ax_t = Axis(label='t', scale=t_sc, tick_format='0.0f')\n",
    "ax_y = Axis(label='y', scale=y_sc,\n",
    "            orientation='vertical', tick_format='0.2f')\n",
    "\n",
    "\n",
    "trajectory = Lines(x=np.array([]),y=np.array([]),scales={'x':t_sc,'y':y_sc})\n",
    "trajectory_fig = Figure(axes=[ax_t,ax_y],marks=[trajectory],\n",
    "                        animation_duration=int(100/6),\n",
    "#                         layout={'width':'500px'}\n",
    "                       )"
   ]
  },
  {
   "cell_type": "code",
   "execution_count": 24,
   "metadata": {},
   "outputs": [
    {
     "data": {
      "application/vnd.jupyter.widget-view+json": {
       "model_id": "cd0a655b93774e1cb4eb49eda6075c03",
       "version_major": 2,
       "version_minor": 0
      },
      "text/plain": [
       "HBox(children=(VBox(children=(Figure(animation_duration=16, axes=[Axis(label='x', scale=LinearScale(max=100.0,…"
      ]
     },
     "metadata": {},
     "output_type": "display_data"
    }
   ],
   "source": [
    "widgets.HBox( [  widgets.VBox([fig, enable_change, \n",
    "                                  duration, \n",
    "                                  play_button,\n",
    "                                  ball_size, \n",
    "                                  ball_elasticiy,\n",
    "                                  ]),  trajectory_fig] )"
   ]
  }
 ],
 "metadata": {
  "kernelspec": {
   "display_name": "Python 3",
   "language": "python",
   "name": "python3"
  },
  "language_info": {
   "codemirror_mode": {
    "name": "ipython",
    "version": 3
   },
   "file_extension": ".py",
   "mimetype": "text/x-python",
   "name": "python",
   "nbconvert_exporter": "python",
   "pygments_lexer": "ipython3",
   "version": "3.7.3"
  }
 },
 "nbformat": 4,
 "nbformat_minor": 2
}
