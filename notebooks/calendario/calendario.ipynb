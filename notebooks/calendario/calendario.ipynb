{
 "cells": [
  {
   "cell_type": "code",
   "execution_count": 1,
   "id": "e5bd69e2-7085-40ca-ad66-d0f2716b2d59",
   "metadata": {},
   "outputs": [],
   "source": [
    "import ipywidgets as w\n",
    "from traitlets import HasTraits, List, Tuple, Bool,Int,Instance,observe"
   ]
  },
  {
   "cell_type": "code",
   "execution_count": 44,
   "id": "73671cd5-07c8-4c95-8ba5-b73586dbee03",
   "metadata": {},
   "outputs": [],
   "source": [
    "class Hour(HasTraits):\n",
    "    value = Bool()\n",
    "\n",
    "class Day:\n",
    "    def __init__(self):\n",
    "        self.hours = [Hour() for _ in range(24)]\n",
    "\n",
    "class Calendar:\n",
    "\n",
    "    def __init__(self,ndays):\n",
    "        self.days = [Day() for _ in range(ndays)]\n",
    "\n",
    "class CalendarView:\n",
    "\n",
    "    def __init__(self,model):\n",
    "        self.model = model\n",
    "        self.days = [ DayView(d) for d in self.model.days]\n",
    "        self.view = w.HBox([d.view for d in self.days])\n",
    "\n",
    "    def _ipython_display_(self):\n",
    "        display(self.view)\n",
    "\n",
    "class DayView:\n",
    "\n",
    "    l = w.Layout(width=\"90%\",height=\"100%\")\n",
    "    \n",
    "    def __init__(self,model):\n",
    "        self.model = model\n",
    "        self.hours = [w.ToggleButton(description=(\"\" if (i+1) % 4 else str(i+1)),layout=l,disabled=True) for i,_ in enumerate(model.hours)]\n",
    "\n",
    "        for v,m in zip(self.hours,self.model.hours):\n",
    "            w.link((v,\"value\"),(m,\"value\"))\n",
    "\n",
    "        self.view = w.VBox(self.hours)\n",
    "\n",
    "    def _ipython_display_(self):\n",
    "        display(self.view)"
   ]
  },
  {
   "cell_type": "code",
   "execution_count": 45,
   "id": "0342662a-a193-4e07-ba4f-ab7783dcc6fb",
   "metadata": {},
   "outputs": [],
   "source": [
    "class AppModel(HasTraits):\n",
    "    \n",
    "    ndays = Int()\n",
    "    hours = Int(1)\n",
    "    start = Int()\n",
    "    calendar = Instance(Calendar,default_value=Calendar(7))\n",
    "    _calc = Bool()\n",
    "\n",
    "    def __init__(self,ndays):\n",
    "        self.start = 1\n",
    "        self.ndays = ndays\n",
    "        self._calc = False\n",
    "        # self.create_calendar()\n",
    "    \n",
    "    @observe(\"ndays\")\n",
    "    def on_ndays(self,change):\n",
    "        # print(change)\n",
    "        if not self._calc and self.calendar:\n",
    "            self._calc = True\n",
    "            self.create_calendar()\n",
    "            self._calc = False\n",
    "\n",
    "    @observe(\"start\")\n",
    "    def on_start(self,change):\n",
    "        # print(change)\n",
    "        if not self._calc and self.calendar:\n",
    "            self._calc = True\n",
    "            self.create_calendar()\n",
    "            self._calc = False\n",
    "\n",
    "    @observe(\"hours\")\n",
    "    def on_hours(self,change):\n",
    "        # print(change)\n",
    "        if not self._calc and self.calendar:\n",
    "            self._calc = True\n",
    "            self.create_calendar()\n",
    "            self._calc = False\n",
    "\n",
    "    def create_calendar(self):\n",
    "        self.calendar = Calendar(self.ndays)\n",
    "        hours = (h for d in self.calendar.days for h in d.hours )\n",
    "        st = self.g(self.ndays, self.start,self.hours)\n",
    "        for h,v in zip(hours,st):\n",
    "            h.value = v\n",
    "        # self.calendar.days[0].hours[self.start-1].value = True\n",
    "\n",
    "    def g(self,ndays,start,hours):\n",
    "        return ( ((h-start) % hours) == hours-1 if h>=start-1 else False for h in range(24*ndays))"
   ]
  },
  {
   "cell_type": "code",
   "execution_count": 46,
   "id": "92de6651-6e79-4fc9-8ebd-6218027e13d9",
   "metadata": {},
   "outputs": [],
   "source": [
    "class App:\n",
    "\n",
    "    def __init__(self,ndays=7):\n",
    "        # self.initial_ndays=ndays\n",
    "        self.model= AppModel(ndays)\n",
    "        self.ndays = w.IntSlider(value=ndays,max=7, description=\"ndays\",disabled=False)\n",
    "        self.hours = w.IntSlider(max=48, description=\"hours\")\n",
    "        self.start = w.IntSlider(min=1,max=24, description=\"start\")\n",
    "\n",
    "        w.link((self.model,\"ndays\"),(self.ndays,\"value\"))\n",
    "        w.link((self.model,\"hours\"),(self.hours,\"value\"))\n",
    "        w.link((self.model,\"start\"),(self.start,\"value\"))\n",
    "         \n",
    "        self.view = w.Box([w.VBox([w.HBox([self.ndays,self.hours,self.start]), CalendarView(self.model.calendar).view])])\n",
    "\n",
    "        self.model.observe(self.update_calendar,names=\"calendar\")\n",
    "        \n",
    "    def update_calendar(self, change):\n",
    "        self.view.children =  [w.VBox([w.HBox([self.ndays,self.hours,self.start]), CalendarView(self.model.calendar).view])]\n",
    "        # self.view = w.VBox([w.HBox([self.ndays,self.hours,self.start]), self.calendar_view.view])\n",
    "\n",
    "\n",
    "    def _ipython_display_(self):\n",
    "        display(self.view)"
   ]
  },
  {
   "cell_type": "code",
   "execution_count": 47,
   "id": "7efdf7e8-2d63-464c-b3d5-f44bfabdf8ac",
   "metadata": {},
   "outputs": [],
   "source": [
    "a=App(2)"
   ]
  },
  {
   "cell_type": "code",
   "execution_count": 48,
   "id": "e574776d-2188-4d63-8a79-ad57145d828f",
   "metadata": {},
   "outputs": [
    {
     "data": {
      "application/vnd.jupyter.widget-view+json": {
       "model_id": "a46a4cbdfc554ac1a3ef7c29915836ed",
       "version_major": 2,
       "version_minor": 0
      },
      "text/plain": [
       "Box(children=(VBox(children=(HBox(children=(IntSlider(value=2, description='ndays', max=7), IntSlider(value=1,…"
      ]
     },
     "metadata": {},
     "output_type": "display_data"
    }
   ],
   "source": [
    "a"
   ]
  },
  {
   "cell_type": "code",
   "execution_count": null,
   "id": "4301526d-7d39-4226-b311-ee18d7bdfe99",
   "metadata": {},
   "outputs": [],
   "source": []
  }
 ],
 "metadata": {
  "kernelspec": {
   "display_name": "Python 3 (ipykernel)",
   "language": "python",
   "name": "python3"
  },
  "language_info": {
   "codemirror_mode": {
    "name": "ipython",
    "version": 3
   },
   "file_extension": ".py",
   "mimetype": "text/x-python",
   "name": "python",
   "nbconvert_exporter": "python",
   "pygments_lexer": "ipython3",
   "version": "3.12.1"
  }
 },
 "nbformat": 4,
 "nbformat_minor": 5
}
