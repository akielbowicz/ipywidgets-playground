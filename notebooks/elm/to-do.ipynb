{
 "cells": [
  {
   "cell_type": "markdown",
   "id": "8be2886c-7cb4-426a-9e98-2d871e2f30b5",
   "metadata": {},
   "source": [
    "[Elm to-do app](https://dev.to/selbekk/creating-a-todo-app-in-elm-i3o)"
   ]
  },
  {
   "cell_type": "code",
   "execution_count": 1,
   "id": "030e2183-5a4f-4486-974f-254e8b5d6ab2",
   "metadata": {},
   "outputs": [],
   "source": [
    "import ipywidgets as w\n",
    "import traitlets as t\n",
    "from dataclasses import dataclass"
   ]
  },
  {
   "cell_type": "code",
   "execution_count": 7,
   "id": "7e1ce5c7-8c63-41fe-87ab-01efd3b4e8a4",
   "metadata": {},
   "outputs": [],
   "source": [
    "from elm import App, div, input, button, onClick, onInput,text"
   ]
  },
  {
   "cell_type": "code",
   "execution_count": 8,
   "id": "1fe2bcaf-2284-4177-8965-8b16e5a7ae54",
   "metadata": {},
   "outputs": [],
   "source": [
    "@dataclass\n",
    "class Element:\n",
    "    text: str\n",
    "    completed: bool = False\n",
    "\n",
    "class Model(t.HasTraits):\n",
    "\n",
    "    elements = t.List()\n",
    "    inputText = t.Unicode()"
   ]
  },
  {
   "cell_type": "code",
   "execution_count": 9,
   "id": "5ab331fc-4457-42ba-abdb-9dd81b0f476f",
   "metadata": {},
   "outputs": [],
   "source": [
    "class Msg:\n",
    "    pass\n",
    "\n",
    "class AddElement(Msg):\n",
    "    pass\n",
    "\n",
    "@dataclass\n",
    "class RemoveElement(Msg):\n",
    "    index : int\n",
    "\n",
    "@dataclass\n",
    "class ChangeInputText(Msg):\n",
    "    text : str"
   ]
  },
  {
   "cell_type": "code",
   "execution_count": 13,
   "id": "ac6baed9-6865-4000-b028-049ed7ce7fcf",
   "metadata": {},
   "outputs": [],
   "source": [
    "def init():\n",
    "    return Model()\n",
    "\n",
    "def update(msg:Msg, model:Model):\n",
    "    match msg:\n",
    "        case AddElement():\n",
    "            model.elements.append(Element(model.inputText))\n",
    "            model.inputText = \"\"\n",
    "            return model\n",
    "        case RemoveElement(index):\n",
    "            model.elements.pop(index)\n",
    "            return model\n",
    "        case ChangeInputText(text):\n",
    "            model.inputText = text\n",
    "            return model\n",
    "            \n",
    "def view(model:Model):\n",
    "    return div([], [\n",
    "    text(\"Hello\"),\n",
    "    input(onInput(lambda x:ChangeInputText(x)),model.inputText, \"New item\"),\n",
    "    div([],[text(e.text) for e in model.elements]),\n",
    "    button(onClick(AddElement()),\"Add\")\n",
    "    ])"
   ]
  },
  {
   "cell_type": "code",
   "execution_count": 14,
   "id": "31ca14b4-ea90-40fe-87ef-7017b375d926",
   "metadata": {},
   "outputs": [],
   "source": [
    "app = App(init,update,view)"
   ]
  },
  {
   "cell_type": "code",
   "execution_count": 15,
   "id": "f8b70472-198a-49fe-a737-ffd4862ad7e3",
   "metadata": {},
   "outputs": [
    {
     "data": {
      "application/vnd.jupyter.widget-view+json": {
       "model_id": "6c3b380976c2404e9dab7a8c6daf9cb5",
       "version_major": 2,
       "version_minor": 0
      },
      "text/plain": [
       "Box(children=(VBox(children=(Text(value='Hello', disabled=True), Text(value='', placeholder='New item'), VBox(…"
      ]
     },
     "metadata": {},
     "output_type": "display_data"
    }
   ],
   "source": [
    "app"
   ]
  }
 ],
 "metadata": {
  "kernelspec": {
   "display_name": "Python 3 (ipykernel)",
   "language": "python",
   "name": "python3"
  },
  "language_info": {
   "codemirror_mode": {
    "name": "ipython",
    "version": 3
   },
   "file_extension": ".py",
   "mimetype": "text/x-python",
   "name": "python",
   "nbconvert_exporter": "python",
   "pygments_lexer": "ipython3",
   "version": "3.12.1"
  }
 },
 "nbformat": 4,
 "nbformat_minor": 5
}
