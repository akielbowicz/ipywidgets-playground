{
 "cells": [
  {
   "cell_type": "markdown",
   "id": "8be2886c-7cb4-426a-9e98-2d871e2f30b5",
   "metadata": {},
   "source": [
    "[Elm buttons example](https://guide.elm-lang.org/architecture/buttons)"
   ]
  },
  {
   "cell_type": "code",
   "execution_count": 1,
   "id": "030e2183-5a4f-4486-974f-254e8b5d6ab2",
   "metadata": {},
   "outputs": [],
   "source": [
    "import ipywidgets as w"
   ]
  },
  {
   "cell_type": "code",
   "execution_count": 2,
   "id": "bba45457-f9a0-40e5-a5a0-6835127992c5",
   "metadata": {},
   "outputs": [],
   "source": [
    "class App:\n",
    "\n",
    "    def __init__(self, init, update, view):\n",
    "        self.model=init()\n",
    "        self._update = update\n",
    "        self._view = view\n",
    "        self.view = w.Box()\n",
    "        self.refresh_view()\n",
    "\n",
    "    def _ipython_display_(self):\n",
    "        display(self.view)\n",
    "\n",
    "    def refresh_view(self):\n",
    "        self.view.children=(self._view(self.model),)\n",
    "    \n",
    "    def call_update(self,msg):\n",
    "        self.model = self._update(msg,self.model)\n",
    "        self.refresh_view()\n",
    "        # self.view = self._view(self.model)"
   ]
  },
  {
   "cell_type": "code",
   "execution_count": null,
   "id": "a4554fbf-4254-457e-bc83-bd543b7f1816",
   "metadata": {},
   "outputs": [],
   "source": []
  },
  {
   "cell_type": "code",
   "execution_count": 3,
   "id": "8f806d14-7422-4c95-b9a6-1136f67fcd99",
   "metadata": {},
   "outputs": [],
   "source": [
    "def onClick(msg):\n",
    "    global app\n",
    "\n",
    "    def update_(w):\n",
    "        app.call_update(msg)\n",
    "    \n",
    "    def setup(widget):\n",
    "        widget.on_click(update_)\n",
    "    return setup"
   ]
  },
  {
   "cell_type": "code",
   "execution_count": 4,
   "id": "48e62709-c0e0-472b-9d0b-2a8db02789a3",
   "metadata": {},
   "outputs": [],
   "source": [
    "def div(x, y):\n",
    "    return w.VBox(y)\n",
    "\n",
    "def text(x):\n",
    "    return w.Text(str(x))\n",
    "\n",
    "def button(setup, text):\n",
    "    b=w.Button(description=text)\n",
    "    setup(b)\n",
    "    return b"
   ]
  },
  {
   "cell_type": "code",
   "execution_count": 5,
   "id": "5ab331fc-4457-42ba-abdb-9dd81b0f476f",
   "metadata": {},
   "outputs": [],
   "source": [
    "class Increment:\n",
    "    def __call__(self,x):\n",
    "        print(f\"Increment: {x}\")\n",
    "\n",
    "class Decrement:\n",
    "    def __call__(self,x):\n",
    "        print(f\"Decrement: {x}\")\n",
    "\n",
    "increment = Increment()\n",
    "decrement = Decrement()"
   ]
  },
  {
   "cell_type": "code",
   "execution_count": 6,
   "id": "ac6baed9-6865-4000-b028-049ed7ce7fcf",
   "metadata": {},
   "outputs": [],
   "source": [
    "def init():\n",
    "    return 0\n",
    "\n",
    "def update(msg, model):\n",
    "    match msg:\n",
    "        case Increment():\n",
    "            return model + 1\n",
    "        case Decrement():\n",
    "            return model - 1\n",
    "            \n",
    "def view(model):\n",
    "    return div([], [\n",
    "    button(onClick(increment),\"+\"),\n",
    "    div([],[text(model)]),\n",
    "    button(onClick(decrement),\"-\"),\n",
    "    ])"
   ]
  },
  {
   "cell_type": "code",
   "execution_count": 7,
   "id": "31ca14b4-ea90-40fe-87ef-7017b375d926",
   "metadata": {},
   "outputs": [],
   "source": [
    "app = App(init,update,view)"
   ]
  },
  {
   "cell_type": "code",
   "execution_count": 8,
   "id": "f8b70472-198a-49fe-a737-ffd4862ad7e3",
   "metadata": {},
   "outputs": [
    {
     "data": {
      "application/vnd.jupyter.widget-view+json": {
       "model_id": "0b1f9df1061540e79a6a3650dd5bebdb",
       "version_major": 2,
       "version_minor": 0
      },
      "text/plain": [
       "Box(children=(VBox(children=(Button(description='+', style=ButtonStyle()), VBox(children=(Text(value='0'),)), …"
      ]
     },
     "metadata": {},
     "output_type": "display_data"
    }
   ],
   "source": [
    "app"
   ]
  },
  {
   "cell_type": "code",
   "execution_count": null,
   "id": "1aee75c1-f12e-422d-ba67-d804fb06678d",
   "metadata": {},
   "outputs": [],
   "source": []
  }
 ],
 "metadata": {
  "kernelspec": {
   "display_name": "Python 3 (ipykernel)",
   "language": "python",
   "name": "python3"
  },
  "language_info": {
   "codemirror_mode": {
    "name": "ipython",
    "version": 3
   },
   "file_extension": ".py",
   "mimetype": "text/x-python",
   "name": "python",
   "nbconvert_exporter": "python",
   "pygments_lexer": "ipython3",
   "version": "3.12.1"
  }
 },
 "nbformat": 4,
 "nbformat_minor": 5
}
