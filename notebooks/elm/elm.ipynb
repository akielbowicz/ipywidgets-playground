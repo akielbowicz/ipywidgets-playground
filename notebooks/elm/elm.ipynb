{
 "cells": [
  {
   "cell_type": "code",
   "execution_count": 1,
   "id": "030e2183-5a4f-4486-974f-254e8b5d6ab2",
   "metadata": {},
   "outputs": [],
   "source": [
    "import ipywidgets as w"
   ]
  },
  {
   "cell_type": "code",
   "execution_count": null,
   "id": "80cf8958-17ef-4f32-b16b-ebc1be211898",
   "metadata": {},
   "outputs": [],
   "source": []
  }
 ],
 "metadata": {
  "kernelspec": {
   "display_name": "Python 3 (ipykernel)",
   "language": "python",
   "name": "python3"
  },
  "language_info": {
   "codemirror_mode": {
    "name": "ipython",
    "version": 3
   },
   "file_extension": ".py",
   "mimetype": "text/x-python",
   "name": "python",
   "nbconvert_exporter": "python",
   "pygments_lexer": "ipython3",
   "version": "3.12.1"
  }
 },
 "nbformat": 4,
 "nbformat_minor": 5
}
