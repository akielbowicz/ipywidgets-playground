{
 "cells": [
  {
   "cell_type": "markdown",
   "id": "d8399726-2d49-4013-bf4c-a9bee30a5a09",
   "metadata": {},
   "source": [
    "[text fields example](https://guide.elm-lang.org/architecture/text_fields)"
   ]
  },
  {
   "cell_type": "code",
   "execution_count": 1,
   "id": "18fbc011-f4af-4beb-ae26-89b25fd77457",
   "metadata": {},
   "outputs": [],
   "source": [
    "import ipywidgets as w"
   ]
  },
  {
   "cell_type": "code",
   "execution_count": 2,
   "id": "2e50b9c5-bee8-4020-a75f-b95f0f507f75",
   "metadata": {},
   "outputs": [],
   "source": [
    "i = w.Text(\"s\")"
   ]
  },
  {
   "cell_type": "code",
   "execution_count": 3,
   "id": "d6516038-f4b8-425f-b80c-38e627090ce4",
   "metadata": {},
   "outputs": [],
   "source": [
    "def on_sub(w):\n",
    "    display(w)"
   ]
  },
  {
   "cell_type": "code",
   "execution_count": 4,
   "id": "7d6301b4-fffa-4c78-95c4-a2ca15dc1ef3",
   "metadata": {},
   "outputs": [],
   "source": [
    "i.observe(on_sub,\"value\")\n",
    "i.continuous_update = False"
   ]
  },
  {
   "cell_type": "code",
   "execution_count": null,
   "id": "aa70d47d-56bf-4703-bc28-afe4692d8f60",
   "metadata": {},
   "outputs": [],
   "source": []
  },
  {
   "cell_type": "code",
   "execution_count": null,
   "id": "7ab7c2bf-5ef5-40f5-9acd-5eb62346c784",
   "metadata": {},
   "outputs": [],
   "source": []
  },
  {
   "cell_type": "code",
   "execution_count": 5,
   "id": "70d3d35c-da9d-40e7-ba4b-d67136db9044",
   "metadata": {},
   "outputs": [
    {
     "data": {
      "application/vnd.jupyter.widget-view+json": {
       "model_id": "e85a2059e17c414a9ab153bf656bf0c0",
       "version_major": 2,
       "version_minor": 0
      },
      "text/plain": [
       "Text(value='s', continuous_update=False)"
      ]
     },
     "execution_count": 5,
     "metadata": {},
     "output_type": "execute_result"
    }
   ],
   "source": [
    "i"
   ]
  },
  {
   "cell_type": "code",
   "execution_count": null,
   "id": "1c80d2ad-b8ca-47f4-8ab1-ff1b701add46",
   "metadata": {},
   "outputs": [],
   "source": []
  }
 ],
 "metadata": {
  "kernelspec": {
   "display_name": "Python 3 (ipykernel)",
   "language": "python",
   "name": "python3"
  },
  "language_info": {
   "codemirror_mode": {
    "name": "ipython",
    "version": 3
   },
   "file_extension": ".py",
   "mimetype": "text/x-python",
   "name": "python",
   "nbconvert_exporter": "python",
   "pygments_lexer": "ipython3",
   "version": "3.12.1"
  }
 },
 "nbformat": 4,
 "nbformat_minor": 5
}
