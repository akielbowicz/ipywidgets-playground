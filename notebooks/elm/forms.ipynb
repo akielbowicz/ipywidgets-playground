{
 "cells": [
  {
   "cell_type": "markdown",
   "id": "54340aff-255f-40fb-9eb4-82e2653d1b7b",
   "metadata": {},
   "source": [
    "[Forms example](https://guide.elm-lang.org/architecture/forms)"
   ]
  },
  {
   "cell_type": "code",
   "execution_count": 1,
   "id": "68739620-69d2-459e-8bda-5d3219654095",
   "metadata": {},
   "outputs": [],
   "source": [
    "import ipywidgets as w\n",
    "import traitlets as t\n",
    "from dataclasses import dataclass\n",
    "from elm import App, onInput, div,text,input,password"
   ]
  },
  {
   "cell_type": "code",
   "execution_count": 2,
   "id": "9db189b2-6306-4793-9b29-a8885e2fd159",
   "metadata": {},
   "outputs": [],
   "source": [
    "@dataclass\n",
    "class Model:\n",
    "    name : str\n",
    "    password: str\n",
    "    passwordAgain: str"
   ]
  },
  {
   "cell_type": "code",
   "execution_count": 3,
   "id": "85679d20-6461-4ec4-8266-b461dcb5873b",
   "metadata": {},
   "outputs": [],
   "source": [
    "class Msg:\n",
    "    pass\n",
    "\n",
    "@dataclass\n",
    "class Name(Msg):\n",
    "    value:str\n",
    "\n",
    "@dataclass\n",
    "class Password(Msg):\n",
    "    value:str\n",
    "\n",
    "@dataclass\n",
    "class PasswordAgain(Msg):\n",
    "    value:str"
   ]
  },
  {
   "cell_type": "code",
   "execution_count": 4,
   "id": "4e8caf38-d5dc-44ed-9f54-69364e405382",
   "metadata": {},
   "outputs": [],
   "source": [
    "def init():\n",
    "    return Model(\"\",\"\",\"\")\n",
    "\n",
    "def update(msg, model):\n",
    "    match msg:\n",
    "        case Name(name):\n",
    "            return Model(name,model.password,model.passwordAgain)\n",
    "        case Password(pwd):\n",
    "            return Model(model.name,pwd,model.passwordAgain)\n",
    "        case PasswordAgain(pwd):\n",
    "            return Model(model.name,model.password,pwd)\n",
    "\n",
    "def viewValidation(model):\n",
    "    if model.password == model.passwordAgain:\n",
    "        return text(\"OK\")\n",
    "    return text(\"Passwords do not match\")\n",
    "\n",
    "\n",
    "def view(model):\n",
    "    return div([],\n",
    "              [\n",
    "              input(onInput(lambda x: Name(x),continuous_update=False),model.name,\"Name\"),\n",
    "              password(onInput(lambda x: Password(x),continuous_update=False),model.password,\"Password\"),\n",
    "              password(onInput(lambda x: PasswordAgain(x),continuous_update=False),model.passwordAgain,\"PasswordAgain\"),\n",
    "              viewValidation(model)    \n",
    "              ]\n",
    "              )"
   ]
  },
  {
   "cell_type": "code",
   "execution_count": 5,
   "id": "74d93341-782e-4406-84a0-761dc088d1b4",
   "metadata": {},
   "outputs": [
    {
     "data": {
      "application/vnd.jupyter.widget-view+json": {
       "model_id": "d4a1c1c3d62b489691d208be015743a9",
       "version_major": 2,
       "version_minor": 0
      },
      "text/plain": [
       "Box(children=(VBox(children=(Text(value='', continuous_update=False, placeholder='Name'), Password(continuous_…"
      ]
     },
     "metadata": {},
     "output_type": "display_data"
    }
   ],
   "source": [
    "app = App(init=init,update=update,view=view)\n",
    "app"
   ]
  },
  {
   "cell_type": "code",
   "execution_count": null,
   "id": "c7931462-62ec-4602-b823-8e7c0ab535dd",
   "metadata": {},
   "outputs": [],
   "source": []
  },
  {
   "cell_type": "code",
   "execution_count": null,
   "id": "02ea1c32-2d01-4c39-818f-f2de25dcc919",
   "metadata": {},
   "outputs": [],
   "source": []
  }
 ],
 "metadata": {
  "kernelspec": {
   "display_name": "Python 3 (ipykernel)",
   "language": "python",
   "name": "python3"
  },
  "language_info": {
   "codemirror_mode": {
    "name": "ipython",
    "version": 3
   },
   "file_extension": ".py",
   "mimetype": "text/x-python",
   "name": "python",
   "nbconvert_exporter": "python",
   "pygments_lexer": "ipython3",
   "version": "3.12.1"
  }
 },
 "nbformat": 4,
 "nbformat_minor": 5
}
