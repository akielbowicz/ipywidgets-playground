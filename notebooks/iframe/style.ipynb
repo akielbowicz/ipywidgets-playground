{
 "cells": [
  {
   "cell_type": "markdown",
   "id": "b8aea5d0-79e0-4e44-89b9-205a69c22839",
   "metadata": {},
   "source": [
    "<!-- %%html\n",
    "<link type=\"text/css\" rel=\"stylesheet\" href=\"iframe.css\" /> -->"
   ]
  },
  {
   "cell_type": "code",
   "execution_count": 1,
   "id": "29181aa7-aca4-4cf5-a789-6b82d7c97ac1",
   "metadata": {},
   "outputs": [],
   "source": [
    "import ipywidgets as w"
   ]
  },
  {
   "cell_type": "code",
   "execution_count": 2,
   "id": "80e1e597-5ffe-4007-ba55-11a402cf0bb0",
   "metadata": {},
   "outputs": [
    {
     "data": {
      "application/vnd.jupyter.widget-view+json": {
       "model_id": "f455c41a48fc4d7e946579bfdd6518f3",
       "version_major": 2,
       "version_minor": 0
      },
      "text/plain": [
       "Button(style=ButtonStyle(), _dom_classes=('mybutton',))"
      ]
     },
     "execution_count": 2,
     "metadata": {},
     "output_type": "execute_result"
    }
   ],
   "source": [
    "b = w.Button()\n",
    "b.add_class(\"mybutton\")\n",
    "b"
   ]
  },
  {
   "cell_type": "code",
   "execution_count": 3,
   "id": "e94022a4-a38a-4ebd-81d9-a2d98c7be966",
   "metadata": {},
   "outputs": [
    {
     "data": {
      "application/vnd.jupyter.widget-view+json": {
       "model_id": "0c8fedf6d9b64ad3be65ba49d99ada5c",
       "version_major": 2,
       "version_minor": 0
      },
      "text/plain": [
       "Text(value='hello')"
      ]
     },
     "execution_count": 3,
     "metadata": {},
     "output_type": "execute_result"
    }
   ],
   "source": [
    "w.Text(\"hello\")"
   ]
  },
  {
   "cell_type": "code",
   "execution_count": 4,
   "id": "aae263f8-961a-455f-9031-ccd8e4b95127",
   "metadata": {},
   "outputs": [
    {
     "data": {
      "application/vnd.jupyter.widget-view+json": {
       "model_id": "9f47d050120f4027a9a1c5f786be77bd",
       "version_major": 2,
       "version_minor": 0
      },
      "text/plain": [
       "Button(style=ButtonStyle())"
      ]
     },
     "execution_count": 4,
     "metadata": {},
     "output_type": "execute_result"
    }
   ],
   "source": [
    "b2 = w.Button()\n",
    "b2"
   ]
  },
  {
   "cell_type": "code",
   "execution_count": null,
   "id": "9d77692a-b3de-42d4-af93-96101a30a423",
   "metadata": {},
   "outputs": [],
   "source": []
  }
 ],
 "metadata": {
  "kernelspec": {
   "display_name": "Python 3 (ipykernel)",
   "language": "python",
   "name": "python3"
  },
  "language_info": {
   "codemirror_mode": {
    "name": "ipython",
    "version": 3
   },
   "file_extension": ".py",
   "mimetype": "text/x-python",
   "name": "python",
   "nbconvert_exporter": "python",
   "pygments_lexer": "ipython3",
   "version": "3.12.2"
  }
 },
 "nbformat": 4,
 "nbformat_minor": 5
}
