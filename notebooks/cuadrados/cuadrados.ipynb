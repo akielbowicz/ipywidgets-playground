{
 "cells": [
  {
   "cell_type": "code",
   "execution_count": 35,
   "id": "a61f1ffb-3483-404a-a901-6a291923ea6f",
   "metadata": {},
   "outputs": [],
   "source": [
    "import ipywidgets as w\n",
    "from traitlets import HasTraits,link,Float,Unicode,observe"
   ]
  },
  {
   "cell_type": "code",
   "execution_count": 36,
   "id": "62d2dea8-3cf9-4a6e-bf2c-2f13ddfaa020",
   "metadata": {},
   "outputs": [],
   "source": [
    "angulo = w.FloatSlider(value=0, min=0,max=360)"
   ]
  },
  {
   "cell_type": "code",
   "execution_count": 37,
   "id": "fc31046e-3921-4a9b-8a89-e8cafb0e4fcd",
   "metadata": {},
   "outputs": [
    {
     "data": {
      "application/vnd.jupyter.widget-view+json": {
       "model_id": "ca052c0e30f146c9bdd5245223a00e4d",
       "version_major": 2,
       "version_minor": 0
      },
      "text/plain": [
       "FloatSlider(value=0.0, max=360.0)"
      ]
     },
     "execution_count": 37,
     "metadata": {},
     "output_type": "execute_result"
    }
   ],
   "source": [
    "angulo"
   ]
  },
  {
   "cell_type": "code",
   "execution_count": 89,
   "id": "c57116fc-a4d2-4907-a8da-4a5ab388eb0e",
   "metadata": {},
   "outputs": [],
   "source": [
    "class M(HasTraits):\n",
    "    x=Float(0)\n",
    "    y=Float(0)\n",
    "    w=Float(100)\n",
    "    h=Float(100)\n",
    "    r=Float(0)\n",
    "    rx=Float(0)\n",
    "    ry=Float(0)\n",
    "    html=Unicode()\n",
    "\n",
    "    @observe(\"x\",\"y\",\"w\",\"h\",\"r\",\"rx\",\"ry\")\n",
    "    def on_change(self,change):\n",
    "        self.html = self.template.format(x=self.x,y=self.y,w=self.w,h=self.h,r=self.r,rx=self.rx,ry=self.ry)\n",
    "\n",
    "    template = \"\"\"\n",
    "    <svg width=\"300\" height=\"300\" xmlns=\"http://www.w3.org/2000/svg\">\n",
    "      <rect x=0 y=0 width=\"200\" height=\"200\" fill=\"none\" stroke=\"black\"\" />\n",
    "      <rect x={x} y={y} width=\"{w}\" height=\"{h}\" fill=\"blue\" stroke=\"blue\" transform=\"rotate({r} {rx} {ry})\" />\n",
    "    </svg>\n",
    "    \"\"\"\n",
    "\n",
    "    def _ipython_display_(self):\n",
    "        display(self.html)"
   ]
  },
  {
   "cell_type": "code",
   "execution_count": 90,
   "id": "54b35350-ff48-48d9-a669-995e6c3c3925",
   "metadata": {},
   "outputs": [
    {
     "data": {
      "text/plain": [
       "''"
      ]
     },
     "metadata": {},
     "output_type": "display_data"
    }
   ],
   "source": [
    "m=M()\n",
    "m"
   ]
  },
  {
   "cell_type": "code",
   "execution_count": 93,
   "id": "98dd786d-1ae8-418d-8d67-d36ce11a9796",
   "metadata": {},
   "outputs": [
    {
     "data": {
      "text/plain": [
       "'\\n    <svg width=\"300\" height=\"300\" xmlns=\"http://www.w3.org/2000/svg\">\\n      <rect x=0 y=0 width=\"200\" height=\"200\" fill=\"none\" stroke=\"black\"\" />\\n      <rect x=1.0 y=0.0 width=\"100.0\" height=\"100.0\" fill=\"blue\" stroke=\"blue\" transform=\"rotate(0.0 0.0 0.0)\" />\\n    </svg>\\n    '"
      ]
     },
     "execution_count": 93,
     "metadata": {},
     "output_type": "execute_result"
    }
   ],
   "source": [
    "m.html"
   ]
  },
  {
   "cell_type": "code",
   "execution_count": 92,
   "id": "5f7d41bf-5cbb-41e8-94bb-b7643aeff782",
   "metadata": {},
   "outputs": [],
   "source": [
    "m.x=1"
   ]
  },
  {
   "cell_type": "code",
   "execution_count": 94,
   "id": "40906eb7-7e36-4478-99b0-6f561ec7faaa",
   "metadata": {},
   "outputs": [],
   "source": [
    "class V:\n",
    "\n",
    "    def __init__(self):\n",
    "        self.model = M()\n",
    "        self.view = self.build_view()\n",
    "   \n",
    "    def build_view(self):\n",
    "        sliders = [ w.FloatSlider(description=nombre)\n",
    "                    for nombre in [\"x\",\"y\",\"w\",\"h\",\"r\",\"rx\",\"ry\"] ]\n",
    "        for s in sliders:\n",
    "            link((s,\"value\"),(self.model,s.description))\n",
    "        svg = w.HTML()\n",
    "        link((svg,\"value\"),(self.model,\"html\"))\n",
    "        return w.VBox(sliders+[svg])\n",
    "\n",
    "    def _ipython_display_(self):\n",
    "        display(self.view)"
   ]
  },
  {
   "cell_type": "code",
   "execution_count": 95,
   "id": "bda9b375-1126-45a5-af48-b4a541361ee6",
   "metadata": {},
   "outputs": [
    {
     "data": {
      "application/vnd.jupyter.widget-view+json": {
       "model_id": "c428adfeb35246c3bca32c54ec6c7362",
       "version_major": 2,
       "version_minor": 0
      },
      "text/plain": [
       "VBox(children=(FloatSlider(value=0.0, description='x'), FloatSlider(value=0.0, description='y'), FloatSlider(v…"
      ]
     },
     "metadata": {},
     "output_type": "display_data"
    }
   ],
   "source": [
    "v=V()\n",
    "v"
   ]
  }
 ],
 "metadata": {
  "kernelspec": {
   "display_name": "Python 3 (ipykernel)",
   "language": "python",
   "name": "python3"
  },
  "language_info": {
   "codemirror_mode": {
    "name": "ipython",
    "version": 3
   },
   "file_extension": ".py",
   "mimetype": "text/x-python",
   "name": "python",
   "nbconvert_exporter": "python",
   "pygments_lexer": "ipython3",
   "version": "3.12.2"
  }
 },
 "nbformat": 4,
 "nbformat_minor": 5
}
