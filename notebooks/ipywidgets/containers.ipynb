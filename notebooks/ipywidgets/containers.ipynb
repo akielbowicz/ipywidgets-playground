{
 "cells": [
  {
   "cell_type": "code",
   "execution_count": 4,
   "id": "6d48e97b-a0c9-48ff-875f-9ac264724da2",
   "metadata": {},
   "outputs": [],
   "source": [
    "import ipywidgets as w\n",
    "import traitlets as t\n",
    "from dataclasses import dataclass"
   ]
  },
  {
   "cell_type": "code",
   "execution_count": 5,
   "id": "8a1455d6-7a69-4b1a-8789-526f49a1652e",
   "metadata": {},
   "outputs": [],
   "source": [
    "@dataclass\n",
    "class MyClass:\n",
    "    string:str\n",
    "    integer:int"
   ]
  },
  {
   "cell_type": "code",
   "execution_count": 47,
   "id": "01b00c4d-d515-4e77-8ea8-72d2400795f8",
   "metadata": {},
   "outputs": [],
   "source": [
    "class Model(t.HasTraits):\n",
    "\n",
    "    value = t.List(t.Instance(MyClass))\n",
    "\n",
    "    def _ipython_display_(self):\n",
    "        display(self.value)"
   ]
  },
  {
   "cell_type": "code",
   "execution_count": 48,
   "id": "f7747337-da64-4291-b3d8-95bfca21f0d1",
   "metadata": {},
   "outputs": [],
   "source": [
    "m = Model()"
   ]
  }
 ],
 "metadata": {
  "kernelspec": {
   "display_name": "Python 3 (ipykernel)",
   "language": "python",
   "name": "python3"
  },
  "language_info": {
   "codemirror_mode": {
    "name": "ipython",
    "version": 3
   },
   "file_extension": ".py",
   "mimetype": "text/x-python",
   "name": "python",
   "nbconvert_exporter": "python",
   "pygments_lexer": "ipython3",
   "version": "3.12.1"
  }
 },
 "nbformat": 4,
 "nbformat_minor": 5
}
