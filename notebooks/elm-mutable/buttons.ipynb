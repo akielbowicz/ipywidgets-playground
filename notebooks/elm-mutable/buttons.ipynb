{
 "cells": [
  {
   "cell_type": "markdown",
   "id": "8be2886c-7cb4-426a-9e98-2d871e2f30b5",
   "metadata": {},
   "source": [
    "[Elm buttons example](https://guide.elm-lang.org/architecture/buttons)"
   ]
  },
  {
   "cell_type": "code",
   "execution_count": 1,
   "id": "030e2183-5a4f-4486-974f-254e8b5d6ab2",
   "metadata": {},
   "outputs": [],
   "source": [
    "import ipywidgets as w\n",
    "import traitlets as t\n",
    "from elm import App, div, text, button, onClick"
   ]
  },
  {
   "cell_type": "code",
   "execution_count": 2,
   "id": "233cf078-fc16-4696-9eda-a27cf99da863",
   "metadata": {},
   "outputs": [],
   "source": [
    "class Model(t.HasTraits):\n",
    "    value = t.Int(0)"
   ]
  },
  {
   "cell_type": "code",
   "execution_count": 3,
   "id": "5ab331fc-4457-42ba-abdb-9dd81b0f476f",
   "metadata": {},
   "outputs": [],
   "source": [
    "class Increment:\n",
    "    def __call__(self,model):\n",
    "        model.value = model.value + 1\n",
    "        return model\n",
    "        \n",
    "class Decrement:\n",
    "    def __call__(self,model):\n",
    "        model.value = model.value - 1\n",
    "        return model\n",
    "\n",
    "increment = Increment()\n",
    "decrement = Decrement()"
   ]
  },
  {
   "cell_type": "code",
   "execution_count": 8,
   "id": "ac6baed9-6865-4000-b028-049ed7ce7fcf",
   "metadata": {},
   "outputs": [],
   "source": [
    "def init():\n",
    "    return Model()\n",
    "\n",
    "def update(msg, model):\n",
    "    return msg(model)\n",
    "    \n",
    "def view(app, model):\n",
    "    return div([], [\n",
    "    button(onClick(app,increment),\"+\"),\n",
    "    div([],[text(model,\"value\", lambda change: str(change.new))]),\n",
    "    button(onClick(app,decrement),\"-\"),\n",
    "    ])"
   ]
  },
  {
   "cell_type": "code",
   "execution_count": 9,
   "id": "31ca14b4-ea90-40fe-87ef-7017b375d926",
   "metadata": {},
   "outputs": [],
   "source": [
    "app = App(init,update,view)"
   ]
  },
  {
   "cell_type": "code",
   "execution_count": 10,
   "id": "f8b70472-198a-49fe-a737-ffd4862ad7e3",
   "metadata": {},
   "outputs": [
    {
     "data": {
      "application/vnd.jupyter.widget-view+json": {
       "model_id": "835e46a6e244489aa4628e36607f3db5",
       "version_major": 2,
       "version_minor": 0
      },
      "text/plain": [
       "Box(children=(VBox(children=(Button(description='+', style=ButtonStyle()), VBox(children=(Text(value='', disab…"
      ]
     },
     "metadata": {},
     "output_type": "display_data"
    }
   ],
   "source": [
    "app"
   ]
  },
  {
   "cell_type": "code",
   "execution_count": null,
   "id": "1709953d-59a7-45a2-9b57-aeabf3eeab01",
   "metadata": {},
   "outputs": [],
   "source": []
  }
 ],
 "metadata": {
  "kernelspec": {
   "display_name": "Python 3 (ipykernel)",
   "language": "python",
   "name": "python3"
  },
  "language_info": {
   "codemirror_mode": {
    "name": "ipython",
    "version": 3
   },
   "file_extension": ".py",
   "mimetype": "text/x-python",
   "name": "python",
   "nbconvert_exporter": "python",
   "pygments_lexer": "ipython3",
   "version": "3.12.1"
  }
 },
 "nbformat": 4,
 "nbformat_minor": 5
}
