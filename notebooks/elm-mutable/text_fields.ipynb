{
 "cells": [
  {
   "cell_type": "markdown",
   "id": "d8399726-2d49-4013-bf4c-a9bee30a5a09",
   "metadata": {},
   "source": [
    "[text fields example](https://guide.elm-lang.org/architecture/text_fields)"
   ]
  },
  {
   "cell_type": "code",
   "execution_count": 1,
   "id": "18fbc011-f4af-4beb-ae26-89b25fd77457",
   "metadata": {},
   "outputs": [],
   "source": [
    "import ipywidgets as w\n",
    "import traitlets as t\n",
    "from elm import App, onInput, input, text, div\n",
    "from dataclasses import dataclass"
   ]
  },
  {
   "cell_type": "code",
   "execution_count": 2,
   "id": "7c826366-9c54-4b19-a25d-22846397c25c",
   "metadata": {},
   "outputs": [],
   "source": [
    "class Model(t.HasTraits):\n",
    "    value = t.Unicode()"
   ]
  },
  {
   "cell_type": "code",
   "execution_count": 3,
   "id": "aa70d47d-56bf-4703-bc28-afe4692d8f60",
   "metadata": {},
   "outputs": [],
   "source": [
    "# @dataclass\n",
    "class Msg:\n",
    "    pass\n",
    "\n",
    "@dataclass\n",
    "class Change(Msg):\n",
    "    newContent : str\n",
    "\n",
    "    def __call__(self, model):\n",
    "        model.value = self.newContent\n",
    "        return model"
   ]
  },
  {
   "cell_type": "code",
   "execution_count": 4,
   "id": "7ab7c2bf-5ef5-40f5-9acd-5eb62346c784",
   "metadata": {},
   "outputs": [],
   "source": [
    "def init():\n",
    "    return Model(\"\")\n",
    "\n",
    "def update(msg, model):\n",
    "    return msg(model)\n",
    "\n",
    "def view(app,model):\n",
    "    return div([], \n",
    "               [input(onInput(app, lambda x: Change(x)), model.value,\"Text to reverse:\" ) ,\n",
    "                text(model, \"value\", lambda change:\"\".join(reversed(change.new))),\n",
    "               ])"
   ]
  },
  {
   "cell_type": "code",
   "execution_count": 5,
   "id": "70d3d35c-da9d-40e7-ba4b-d67136db9044",
   "metadata": {},
   "outputs": [
    {
     "data": {
      "application/vnd.jupyter.widget-view+json": {
       "model_id": "bec44d58092d45acb4e1b03712037aa8",
       "version_major": 2,
       "version_minor": 0
      },
      "text/plain": [
       "Box(children=(VBox(children=(Text(value='', placeholder='Text to reverse:'), Text(value=''))),))"
      ]
     },
     "metadata": {},
     "output_type": "display_data"
    }
   ],
   "source": [
    "app = App(init,update,view)\n",
    "app"
   ]
  },
  {
   "cell_type": "code",
   "execution_count": null,
   "id": "f2f1671d-2291-4eb3-94df-4c76ddd026ea",
   "metadata": {},
   "outputs": [],
   "source": []
  }
 ],
 "metadata": {
  "kernelspec": {
   "display_name": "Python 3 (ipykernel)",
   "language": "python",
   "name": "python3"
  },
  "language_info": {
   "codemirror_mode": {
    "name": "ipython",
    "version": 3
   },
   "file_extension": ".py",
   "mimetype": "text/x-python",
   "name": "python",
   "nbconvert_exporter": "python",
   "pygments_lexer": "ipython3",
   "version": "3.12.1"
  }
 },
 "nbformat": 4,
 "nbformat_minor": 5
}
