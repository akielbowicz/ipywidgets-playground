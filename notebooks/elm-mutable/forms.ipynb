{
 "cells": [
  {
   "cell_type": "markdown",
   "id": "54340aff-255f-40fb-9eb4-82e2653d1b7b",
   "metadata": {},
   "source": [
    "[Forms example](https://guide.elm-lang.org/architecture/forms)"
   ]
  },
  {
   "cell_type": "code",
   "execution_count": 1,
   "id": "68739620-69d2-459e-8bda-5d3219654095",
   "metadata": {},
   "outputs": [],
   "source": [
    "import ipywidgets as w\n",
    "import traitlets as t\n",
    "from dataclasses import dataclass\n",
    "from elm import App, onInput, div,text,input,password,linkInput"
   ]
  },
  {
   "cell_type": "code",
   "execution_count": 2,
   "id": "9db189b2-6306-4793-9b29-a8885e2fd159",
   "metadata": {},
   "outputs": [],
   "source": [
    "class Model(t.HasTraits):\n",
    "    name = t.Unicode()\n",
    "    password = t.Unicode()\n",
    "    passwordAgain = t.Unicode()\n",
    "\n",
    "    def _ipython_display_(self):\n",
    "        display(self.name, self.password, self.passwordAgain)"
   ]
  },
  {
   "cell_type": "code",
   "execution_count": 3,
   "id": "85679d20-6461-4ec4-8266-b461dcb5873b",
   "metadata": {},
   "outputs": [],
   "source": [
    "class Msg:\n",
    "    pass\n",
    "\n",
    "@dataclass\n",
    "class Name(Msg):\n",
    "    value:str\n",
    "\n",
    "    def __call__(self, model):\n",
    "        model.name = self.value\n",
    "        return model\n",
    "\n",
    "@dataclass\n",
    "class Password(Msg):\n",
    "    value:str\n",
    "\n",
    "    def __call__(self, model):\n",
    "        model.password = self.value\n",
    "        return model\n",
    "\n",
    "@dataclass\n",
    "class PasswordAgain(Msg):\n",
    "    value:str\n",
    "\n",
    "    def __call__(self, model):\n",
    "        model.passwordAgain = self.value\n",
    "        return model"
   ]
  },
  {
   "cell_type": "code",
   "execution_count": 4,
   "id": "4e8caf38-d5dc-44ed-9f54-69364e405382",
   "metadata": {},
   "outputs": [],
   "source": [
    "def init():\n",
    "    return Model(\"\",\"\",\"\")\n",
    "\n",
    "def update(msg, model):\n",
    "    return msg(model)\n",
    "\n",
    "def viewValidation(model):\n",
    "    def transform(change):\n",
    "        m = change.owner\n",
    "        if m.password == m.passwordAgain:\n",
    "            return \"Ok\" \n",
    "        return \"Passwords do not match\"\n",
    "    return text(model, [\"password\", \"passwordAgain\"], transform)\n",
    "\n",
    "def view(app, model):\n",
    "    return div([],\n",
    "              [\n",
    "              input(linkInput(model,\"name\"),\"Name\"),\n",
    "              password(linkInput(model,\"password\"),\"Password\"),\n",
    "              password(linkInput(model,\"passwordAgain\"),\"PasswordAgain\"),\n",
    "              viewValidation(model)    \n",
    "              ]\n",
    "              )"
   ]
  },
  {
   "cell_type": "code",
   "execution_count": 5,
   "id": "74d93341-782e-4406-84a0-761dc088d1b4",
   "metadata": {},
   "outputs": [
    {
     "data": {
      "application/vnd.jupyter.widget-view+json": {
       "model_id": "c3ab32de24fd4a47bf04d1ab57837ab0",
       "version_major": 2,
       "version_minor": 0
      },
      "text/plain": [
       "Box(children=(VBox(children=(Text(value='', placeholder='Name'), Password(placeholder='Password'), Password(pl…"
      ]
     },
     "metadata": {},
     "output_type": "display_data"
    }
   ],
   "source": [
    "app = App(init=init,update=update,view=view)\n",
    "app"
   ]
  },
  {
   "cell_type": "code",
   "execution_count": null,
   "id": "4efbbb39-3fec-4680-a3ce-c37861242d54",
   "metadata": {},
   "outputs": [],
   "source": []
  }
 ],
 "metadata": {
  "kernelspec": {
   "display_name": "Python 3 (ipykernel)",
   "language": "python",
   "name": "python3"
  },
  "language_info": {
   "codemirror_mode": {
    "name": "ipython",
    "version": 3
   },
   "file_extension": ".py",
   "mimetype": "text/x-python",
   "name": "python",
   "nbconvert_exporter": "python",
   "pygments_lexer": "ipython3",
   "version": "3.12.1"
  }
 },
 "nbformat": 4,
 "nbformat_minor": 5
}
