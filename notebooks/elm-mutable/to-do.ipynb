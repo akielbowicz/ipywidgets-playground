{
 "cells": [
  {
   "cell_type": "markdown",
   "id": "8be2886c-7cb4-426a-9e98-2d871e2f30b5",
   "metadata": {},
   "source": [
    "[Elm to-do app](https://dev.to/selbekk/creating-a-todo-app-in-elm-i3o)"
   ]
  },
  {
   "cell_type": "code",
   "execution_count": 1,
   "id": "030e2183-5a4f-4486-974f-254e8b5d6ab2",
   "metadata": {},
   "outputs": [],
   "source": [
    "import ipywidgets as w\n",
    "import traitlets as t\n",
    "from dataclasses import dataclass"
   ]
  },
  {
   "cell_type": "code",
   "execution_count": 2,
   "id": "7e1ce5c7-8c63-41fe-87ab-01efd3b4e8a4",
   "metadata": {},
   "outputs": [],
   "source": [
    "from elm import App, div, input, button, onClick, linkInput,text"
   ]
  },
  {
   "cell_type": "code",
   "execution_count": 3,
   "id": "1fe2bcaf-2284-4177-8965-8b16e5a7ae54",
   "metadata": {},
   "outputs": [],
   "source": [
    "@dataclass\n",
    "class Element:\n",
    "    text: str\n",
    "    completed: bool = False\n",
    "\n",
    "class Model(t.HasTraits):\n",
    "\n",
    "    elements = t.List(t.Instance(Element))\n",
    "    inputText = t.Unicode()"
   ]
  },
  {
   "cell_type": "code",
   "execution_count": 4,
   "id": "5ab331fc-4457-42ba-abdb-9dd81b0f476f",
   "metadata": {},
   "outputs": [],
   "source": [
    "class Msg:\n",
    "    pass\n",
    "\n",
    "class AddElement(Msg):\n",
    "\n",
    "    def __call__(self, model):\n",
    "        elements = list(model.elements)\n",
    "        elements.append(Element(model.inputText))\n",
    "        model.elements = elements\n",
    "        model.inputText = \"\"\n",
    "        return model\n",
    "\n",
    "@dataclass\n",
    "class RemoveElement(Msg):\n",
    "    index : int\n",
    "\n",
    "    def __call__(self, model):\n",
    "        elements = list(model.elements)\n",
    "        elements.pop(self.index)\n",
    "        model.elements = elements\n",
    "        return model"
   ]
  },
  {
   "cell_type": "code",
   "execution_count": 5,
   "id": "ac6baed9-6865-4000-b028-049ed7ce7fcf",
   "metadata": {},
   "outputs": [],
   "source": [
    "def init():\n",
    "    return Model()\n",
    "\n",
    "def update(msg:Msg, model:Model):\n",
    "    return msg(model)\n",
    "\n",
    "def viewTodo(app, model):\n",
    "    td = w.VBox()\n",
    "\n",
    "    def on_change(change):\n",
    "        td.children = [ w.HBox([w.Text(f\"{element.text}\",disabled=True), \n",
    "                       button(onClick(app, RemoveElement(index)),\"Remove\")]) \n",
    "                       for index, element in enumerate(change.new)]\n",
    "                \n",
    "    model.observe(on_change, \"elements\")\n",
    "    return td\n",
    "    \n",
    "def view(app,model:Model):\n",
    "    return div([], [\n",
    "    w.Text(\"Hello\"),\n",
    "    input(linkInput(model,\"inputText\"), \"New item\"),\n",
    "    div([],[viewTodo(app,model)]),\n",
    "    button(onClick(app,AddElement()),\"Add\"),\n",
    "    ])"
   ]
  },
  {
   "cell_type": "code",
   "execution_count": 6,
   "id": "31ca14b4-ea90-40fe-87ef-7017b375d926",
   "metadata": {},
   "outputs": [],
   "source": [
    "app = App(init,update,view)"
   ]
  },
  {
   "cell_type": "code",
   "execution_count": 7,
   "id": "f8b70472-198a-49fe-a737-ffd4862ad7e3",
   "metadata": {},
   "outputs": [
    {
     "data": {
      "application/vnd.jupyter.widget-view+json": {
       "model_id": "1f89a01871f74b9f87aa40cfd29a1a07",
       "version_major": 2,
       "version_minor": 0
      },
      "text/plain": [
       "Box(children=(VBox(children=(Text(value='Hello'), Text(value='', placeholder='New item'), VBox(children=(VBox(…"
      ]
     },
     "metadata": {},
     "output_type": "display_data"
    }
   ],
   "source": [
    "app"
   ]
  }
 ],
 "metadata": {
  "kernelspec": {
   "display_name": "Python 3 (ipykernel)",
   "language": "python",
   "name": "python3"
  },
  "language_info": {
   "codemirror_mode": {
    "name": "ipython",
    "version": 3
   },
   "file_extension": ".py",
   "mimetype": "text/x-python",
   "name": "python",
   "nbconvert_exporter": "python",
   "pygments_lexer": "ipython3",
   "version": "3.12.1"
  }
 },
 "nbformat": 4,
 "nbformat_minor": 5
}
